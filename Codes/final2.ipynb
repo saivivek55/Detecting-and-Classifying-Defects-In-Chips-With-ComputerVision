{
 "cells": [
  {
   "cell_type": "code",
   "execution_count": 1,
   "id": "2106ce4f-b2ba-45a3-862f-fb2932fd2b86",
   "metadata": {},
   "outputs": [],
   "source": [
    "# Load in our libraries\n",
    "import pandas as pd\n",
    "import numpy as np\n",
    "import sklearn\n",
    "import xgboost as xgb\n",
    "import seaborn as sns\n",
    "import matplotlib.pyplot as plt\n",
    "from sklearn.model_selection import KFold\n",
    "from sklearn.metrics import confusion_matrix\n",
    "plt.style.use('ggplot')\n",
    "sns.set(font_scale=1.5) \n",
    "\n",
    "%matplotlib inline\n",
    "import torch\n",
    "import torchvision\n",
    "import torchvision.transforms as transforms\n",
    "from PIL import Image"
   ]
  },
  {
   "cell_type": "code",
   "execution_count": 8,
   "id": "7265ba27-1157-4077-8051-ab2e917c25e1",
   "metadata": {},
   "outputs": [],
   "source": [
    "from CNN2 import CNN "
   ]
  },
  {
   "cell_type": "code",
   "execution_count": 10,
   "id": "daff95e6-896c-4c6d-9e61-0212bcb9c0a5",
   "metadata": {},
   "outputs": [
    {
     "name": "stderr",
     "output_type": "stream",
     "text": [
      "/var/folders/z_/xvvp4h796z9ggg4w6w81n__m0000gq/T/ipykernel_21077/4215959329.py:3: FutureWarning: You are using `torch.load` with `weights_only=False` (the current default value), which uses the default pickle module implicitly. It is possible to construct malicious pickle data which will execute arbitrary code during unpickling (See https://github.com/pytorch/pytorch/blob/main/SECURITY.md#untrusted-models for more details). In a future release, the default value for `weights_only` will be flipped to `True`. This limits the functions that could be executed during unpickling. Arbitrary objects will no longer be allowed to be loaded via this mode unless they are explicitly allowlisted by the user via `torch.serialization.add_safe_globals`. We recommend you start setting `weights_only=True` for any use case where you don't have full control of the loaded file. Please open an issue on GitHub for any issues related to this experimental feature.\n",
      "  cnn_model.load_state_dict(torch.load('cnn_model.pth'))  # Load saved parameters\n"
     ]
    },
    {
     "data": {
      "text/plain": [
       "CNN(\n",
       "  (layer1): Sequential(\n",
       "    (0): Conv2d(1, 32, kernel_size=(3, 3), stride=(1, 1), padding=(1, 1))\n",
       "    (1): BatchNorm2d(32, eps=1e-05, momentum=0.1, affine=True, track_running_stats=True)\n",
       "    (2): ReLU()\n",
       "    (3): MaxPool2d(kernel_size=2, stride=2, padding=0, dilation=1, ceil_mode=False)\n",
       "  )\n",
       "  (layer2): Sequential(\n",
       "    (0): Conv2d(32, 64, kernel_size=(3, 3), stride=(1, 1), padding=(1, 1))\n",
       "    (1): BatchNorm2d(64, eps=1e-05, momentum=0.1, affine=True, track_running_stats=True)\n",
       "    (2): ReLU()\n",
       "    (3): MaxPool2d(kernel_size=2, stride=2, padding=0, dilation=1, ceil_mode=False)\n",
       "  )\n",
       "  (layer3): Sequential(\n",
       "    (0): Conv2d(64, 128, kernel_size=(3, 3), stride=(1, 1), padding=(1, 1))\n",
       "    (1): BatchNorm2d(128, eps=1e-05, momentum=0.1, affine=True, track_running_stats=True)\n",
       "    (2): ReLU()\n",
       "    (3): MaxPool2d(kernel_size=2, stride=2, padding=1, dilation=1, ceil_mode=False)\n",
       "  )\n",
       "  (fc1): Linear(in_features=2048, out_features=625, bias=True)\n",
       "  (layer4): Sequential(\n",
       "    (0): Linear(in_features=2048, out_features=625, bias=True)\n",
       "    (1): ReLU()\n",
       "  )\n",
       "  (fc2): Linear(in_features=625, out_features=9, bias=True)\n",
       ")"
      ]
     },
     "execution_count": 10,
     "metadata": {},
     "output_type": "execute_result"
    }
   ],
   "source": [
    "DEVICE = torch.device('cuda' if torch.cuda.is_available() else 'cpu')\n",
    "cnn_model = CNN()  # Create a new instance of CNN\n",
    "cnn_model.load_state_dict(torch.load('cnn_model.pth'))  # Load saved parameters\n",
    "cnn_model.to(DEVICE) "
   ]
  },
  {
   "cell_type": "code",
   "execution_count": 11,
   "id": "adfdbd69-bdf2-4ab8-9916-5e64313cd0b2",
   "metadata": {},
   "outputs": [],
   "source": [
    "def view_classify(img, ps):\n",
    "    ''' Function for viewing an image and it's predicted classes.\n",
    "    '''\n",
    "    ps = ps.squeeze()\n",
    "    fig, (ax1, ax2) = plt.subplots(figsize=(6,9), ncols=2)\n",
    "    ax1.imshow(img.resize_(1, 26, 26).numpy().squeeze())\n",
    "    ax1.axis('off')\n",
    "    ax2.barh(np.arange(9), ps)\n",
    "    ax2.set_aspect(2)\n",
    "    ax2.set_yticks(np.arange(9))\n",
    "    ax2.set_yticklabels(['Center', 'Donut', 'Edge-Loc', 'Edge-Ring', 'Loc', 'Near-full', 'Random', 'Scratch', 'none'])\n",
    "    ax2.set_title('Class Probability')\n",
    "    ax2.set_xlim(0, 15)\n",
    "\n",
    "    plt.tight_layout()"
   ]
  },
  {
   "cell_type": "code",
   "execution_count": 57,
   "id": "214f5875-f3d9-4aaa-8b34-9281b4ddc21e",
   "metadata": {},
   "outputs": [
    {
     "name": "stdout",
     "output_type": "stream",
     "text": [
      "i: 0, l: Center\n",
      "i: 1, l: Donut\n",
      "i: 2, l: Edge-Loc\n",
      "i: 3, l: Edge-Ring\n",
      "i: 4, l: Loc\n",
      "i: 5, l: Near-full\n",
      "i: 6, l: Random\n",
      "i: 7, l: Scratch\n",
      "i: 8, l: None\n"
     ]
    }
   ],
   "source": [
    "def label_description(i):\n",
    "    if i == 0:\n",
    "        return \"Center\"\n",
    "    elif i == 1:\n",
    "        return \"Donut\"\n",
    "    elif i == 2:\n",
    "        return \"Edge-Loc\"\n",
    "    elif i == 3:\n",
    "        return \"Edge-Ring\"\n",
    "    elif i == 4:\n",
    "        return \"Loc\"\n",
    "    elif i == 5:\n",
    "        return \"Near-full\"\n",
    "    elif i == 6:\n",
    "        return \"Random\"\n",
    "    elif i == 7:\n",
    "        return \"Scratch\"\n",
    "    elif i == 8:\n",
    "        return \"None\"\n",
    "    else:\n",
    "        return \"Unknown label\"\n",
    "\n",
    "# Example usage:\n",
    "for i in range(9):\n",
    "    print(f\"i: {i}, l: {label_description(i)}\")"
   ]
  },
  {
   "cell_type": "code",
   "execution_count": 69,
   "id": "c683c5b6-49bc-43c9-831f-b99ee699d9a9",
   "metadata": {},
   "outputs": [],
   "source": [
    "def make_predict(tensor, model):\n",
    "    tensor = tensor.unsqueeze(0).unsqueeze(0).to(DEVICE)\n",
    "    with torch.no_grad():\n",
    "        ps = model(tensor).detach().cpu().numpy()[0]\n",
    "        probabilities = np.exp(ps)\n",
    "        print(\"Probabilities:\", probabilities)\n",
    "        predicted_class = np.argmax(probabilities)\n",
    "        label_desc = label_description(predicted_class)\n",
    "        print(f'Predicted class: {predicted_class} - {label_desc}')\n",
    "    view_classify(tensor.view(1, 26, 26).cpu(), probabilities)"
   ]
  },
  {
   "cell_type": "code",
   "execution_count": 70,
   "id": "70f7ccf2-2d2f-4564-8bbd-a86d43fb59ac",
   "metadata": {},
   "outputs": [],
   "source": [
    "df = pd.read_csv('resize_x_csv_files/resize_x_17.csv')"
   ]
  },
  {
   "cell_type": "code",
   "execution_count": 71,
   "id": "a19412a4-d460-4459-8175-50119ad8a638",
   "metadata": {},
   "outputs": [],
   "source": [
    "import torch\n",
    "array = df.to_numpy()\n",
    "tensor = torch.tensor(array, dtype=torch.float)"
   ]
  },
  {
   "cell_type": "code",
   "execution_count": 72,
   "id": "de329548-2d13-48cc-95a3-71267c00e48a",
   "metadata": {},
   "outputs": [
    {
     "name": "stdout",
     "output_type": "stream",
     "text": [
      "Probabilities: [6.06766669e-04 1.15851745e-10 4.61353958e-01 1.51034746e+01\n",
      " 5.30722245e-05 5.05518354e-03 2.61346288e-02 2.12887325e+01\n",
      " 4.16097119e-02]\n",
      "Predicted class: 7 - Scratch\n"
     ]
    },
    {
     "data": {
      "image/png": "[encoded data removed]",
      "text/plain": [
       "<Figure size 600x900 with 2 Axes>"
      ]
     },
     "metadata": {},
     "output_type": "display_data"
    }
   ],
   "source": [
    "make_predict(tensor,cnn_model)"
   ]
  },
  {
   "cell_type": "code",
   "execution_count": 37,
   "id": "33ff0909-0ba0-41bf-8da5-a601bd8b65d7",
   "metadata": {},
   "outputs": [
    {
     "data": {
      "text/plain": [
       "torch.Size([26, 26])"
      ]
     },
     "execution_count": 37,
     "metadata": {},
     "output_type": "execute_result"
    }
   ],
   "source": [
    "tensor.shape"
   ]
  },
  {
   "cell_type": "code",
   "execution_count": null,
   "id": "9cfb81ed-acb0-4581-a369-57d75ba4c95f",
   "metadata": {},
   "outputs": [],
   "source": []
  }
 ],
 "metadata": {
  "kernelspec": {
   "display_name": "Python 3 (ipykernel)",
   "language": "python",
   "name": "python3"
  },
  "language_info": {
   "codemirror_mode": {
    "name": "ipython",
    "version": 3
   },
   "file_extension": ".py",
   "mimetype": "text/x-python",
   "name": "python",
   "nbconvert_exporter": "python",
   "pygments_lexer": "ipython3",
   "version": "3.9.20"
  }
 },
 "nbformat": 4,
 "nbformat_minor": 5
}
